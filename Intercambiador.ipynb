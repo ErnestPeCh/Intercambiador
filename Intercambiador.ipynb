{
 "cells": [
  {
   "cell_type": "code",
   "execution_count": 1,
   "metadata": {},
   "outputs": [],
   "source": [
    "import pandas as pd\n",
    "import matplotlib.pyplot as plt\n",
    "import numpy as np\n",
    "from numpy import exp, loadtxt,pi,sqrt,log10,log\n",
    "import math"
   ]
  },
  {
   "cell_type": "markdown",
   "metadata": {},
   "source": [
    "# Datos de entrada"
   ]
  },
  {
   "cell_type": "markdown",
   "metadata": {},
   "source": [
    "**Datos de entrada**"
   ]
  },
  {
   "cell_type": "code",
   "execution_count": 2,
   "metadata": {},
   "outputs": [],
   "source": [
    "#Todos sacados de tablas del Cengel para la Temperatura del suelo\n",
    "Pr=0.7282\n",
    "#Viscosidad dinámica [kg/m]\n",
    "visd=(1.872*pow(10,-5))\n",
    "#Viscosidad cinemática [m^2/s]\n",
    "visc=(1.608*pow(10,-5))\n",
    "#Conductividad térmica [J/mK]\n",
    "k=0.02588\n",
    "#Densidad del aire [kg/m^3]\n",
    "rho=1.164\n",
    "#Calor específico [J/kgK]\n",
    "Cp=1007\n",
    "#Cambios de aire por hora para el espacio \n",
    "ca=6\n",
    "#Diámetro interno del tubo [m]\n",
    "di=0.045\n",
    "#Temperatura media mensual en el lugar seleccionado [°C]\n",
    "Tw=25\n",
    "#Volumen del espacio a climatizar\n",
    "volumen=48"
   ]
  },
  {
   "cell_type": "markdown",
   "metadata": {},
   "source": [
    "# Metodología para la resolución del problema"
   ]
  },
  {
   "cell_type": "markdown",
   "metadata": {},
   "source": [
    "**Flujo volumétrico [m^3/s]**"
   ]
  },
  {
   "cell_type": "code",
   "execution_count": 3,
   "metadata": {},
   "outputs": [
    {
     "data": {
      "text/plain": [
       "0.08"
      ]
     },
     "execution_count": 3,
     "metadata": {},
     "output_type": "execute_result"
    }
   ],
   "source": [
    "V_dot=(volumen*ca)/3600\n",
    "V_dot"
   ]
  },
  {
   "cell_type": "markdown",
   "metadata": {},
   "source": [
    "**Velocidad del aire [m/s]**"
   ]
  },
  {
   "cell_type": "code",
   "execution_count": 4,
   "metadata": {},
   "outputs": [
    {
     "data": {
      "text/plain": [
       "50.3008215204015"
      ]
     },
     "execution_count": 4,
     "metadata": {},
     "output_type": "execute_result"
    }
   ],
   "source": [
    "vel=(4*V_dot)/(pi*di**2)\n",
    "vel"
   ]
  },
  {
   "cell_type": "markdown",
   "metadata": {},
   "source": [
    "**Reynolds**"
   ]
  },
  {
   "cell_type": "code",
   "execution_count": 5,
   "metadata": {},
   "outputs": [
    {
     "data": {
      "text/plain": [
       "140767.22440410865"
      ]
     },
     "execution_count": 5,
     "metadata": {},
     "output_type": "execute_result"
    }
   ],
   "source": [
    "Re=(vel*di)/visc\n",
    "Re"
   ]
  },
  {
   "cell_type": "markdown",
   "metadata": {},
   "source": [
    "**xi**"
   ]
  },
  {
   "cell_type": "code",
   "execution_count": 6,
   "metadata": {},
   "outputs": [
    {
     "data": {
      "text/plain": [
       "0.016734408160310653"
      ]
     },
     "execution_count": 6,
     "metadata": {},
     "output_type": "execute_result"
    }
   ],
   "source": [
    "xi= pow(((1.82*log10(Re)-1.64)),-2)\n",
    "xi"
   ]
  },
  {
   "cell_type": "markdown",
   "metadata": {},
   "source": [
    "**Nu**"
   ]
  },
  {
   "cell_type": "code",
   "execution_count": 7,
   "metadata": {},
   "outputs": [
    {
     "data": {
      "text/plain": [
       "239.40372337005715"
      ]
     },
     "execution_count": 7,
     "metadata": {},
     "output_type": "execute_result"
    }
   ],
   "source": [
    "Nu = ((xi/8)*(Re-1000)*Pr)/(1+(12.7*sqrt((xi/8))*(pow(Pr,2/3)-1)))\n",
    "Nu"
   ]
  },
  {
   "cell_type": "markdown",
   "metadata": {},
   "source": [
    "**h**"
   ]
  },
  {
   "cell_type": "code",
   "execution_count": 8,
   "metadata": {},
   "outputs": [
    {
     "data": {
      "text/plain": [
       "137.68374135149065"
      ]
     },
     "execution_count": 8,
     "metadata": {},
     "output_type": "execute_result"
    }
   ],
   "source": [
    "h=(Nu*k)/di\n",
    "h"
   ]
  },
  {
   "cell_type": "markdown",
   "metadata": {},
   "source": [
    "**Flujo másico [kg/s]**"
   ]
  },
  {
   "cell_type": "code",
   "execution_count": 9,
   "metadata": {},
   "outputs": [
    {
     "data": {
      "text/plain": [
       "0.09312"
      ]
     },
     "execution_count": 9,
     "metadata": {},
     "output_type": "execute_result"
    }
   ],
   "source": [
    "m=V_dot*rho\n",
    "m"
   ]
  },
  {
   "cell_type": "markdown",
   "metadata": {},
   "source": [
    "**GRÁFICA**"
   ]
  },
  {
   "cell_type": "code",
   "execution_count": 10,
   "metadata": {},
   "outputs": [
    {
     "name": "stdout",
     "output_type": "stream",
     "text": [
      "Usando una efectividad de 0.4, el NTU es 0.5108256237659907 y la longitud del tubo es: 2.460934567288525 m\n",
      "\n",
      "\n",
      "Usando una efectividad de 0.5, el NTU es 0.6931471805599453 y la longitud del tubo es: 3.339280132979337 m\n",
      "\n",
      "\n",
      "Usando una efectividad de 0.6, el NTU es 0.916290731874155 y la longitud del tubo es: 4.414288224484592 m\n",
      "\n",
      "\n",
      "Usando una efectividad de 0.7, el NTU es 1.203972804325936 y la longitud del tubo es: 5.800214700267861 m\n",
      "\n",
      "\n",
      "Usando una efectividad de 0.8, el NTU es 1.6094379124341005 y la longitud del tubo es: 7.753568357463929 m\n",
      "\n",
      "\n",
      "Usando una efectividad de 0.9, el NTU es 2.302585092994046 y la longitud del tubo es: 11.092848490443265 m\n",
      "\n",
      "\n",
      "Usando una efectividad de 0.95, el NTU es 2.99573227355399 y la longitud del tubo es: 14.4321286234226 m\n",
      "\n",
      "\n",
      "Usando una efectividad de 0.999, el NTU es 6.907755278982136 y la longitud del tubo es: 33.27854547132979 m\n",
      "\n",
      "\n"
     ]
    },
    {
     "data": {
      "image/png": "[encoded data removed]",
      "text/plain": [
       "<Figure size 432x288 with 1 Axes>"
      ]
     },
     "metadata": {
      "needs_background": "light"
     },
     "output_type": "display_data"
    }
   ],
   "source": [
    "#GRAFICACIÓN USANDO CICLO FOR SENCILLO\n",
    "\n",
    "epsilon = [0.4, 0.5, 0.6, 0.7, 0.8, 0.9, 0.95,0.999] #Efectividad\n",
    "longitud = []\n",
    "i = 0\n",
    "for i in epsilon:\n",
    "    NTU = -log(1-i)\n",
    "    L=(NTU*Cp*V_dot*rho)/(Nu*pi*k)\n",
    "    longitud.append(L)\n",
    "    print(f\"Usando una efectividad de {i}, el NTU es {NTU} y la longitud del tubo es: {L} m\")\n",
    "    print(\"\\n\")\n",
    "plt.plot(epsilon,longitud, color=\"red\")\n",
    "plt.scatter(epsilon,longitud, color=\"black\")\n",
    "plt.xticks(np.arange(min(epsilon),max(epsilon)+0.05,0.05))\n",
    "plt.yticks(np.arange(min(longitud),max(longitud)+1,2))\n",
    "plt.grid()\n",
    "plt.xlabel(\"Efectividad\")\n",
    "plt.ylabel(\"Longitud del tubo (m)\")\n",
    "plt.show()"
   ]
  },
  {
   "cell_type": "code",
   "execution_count": 11,
   "metadata": {},
   "outputs": [
    {
     "data": {
      "image/png": "[encoded data removed]",
      "text/plain": [
       "<Figure size 432x288 with 1 Axes>"
      ]
     },
     "metadata": {
      "needs_background": "light"
     },
     "output_type": "display_data"
    }
   ],
   "source": [
    "#GRAFICACIÓN USANDO LIST COMPREHENSION\n",
    "\n",
    "epsilon = [0.4, 0.5, 0.6, 0.7, 0.8, 0.9, 0.95,0.999] #Efectividad\n",
    "\n",
    "longitud = list(((-log(1-i))*Cp*V_dot*rho)/(Nu*pi*k) for i in epsilon)\n",
    "plt.plot(epsilon,longitud, color=\"red\")\n",
    "plt.scatter(epsilon,longitud, color=\"black\")\n",
    "plt.xticks(np.arange(min(epsilon),max(epsilon)+0.05,0.05))\n",
    "plt.yticks(np.arange(min(longitud),max(longitud)+1,2))\n",
    "plt.grid()\n",
    "plt.xlabel(\"Efectividad\")\n",
    "plt.ylabel(\"Longitud del tubo (m)\")\n",
    "plt.show()"
   ]
  },
  {
   "cell_type": "code",
   "execution_count": 12,
   "metadata": {},
   "outputs": [
    {
     "name": "stdout",
     "output_type": "stream",
     "text": [
      "[2.460934567288525, 3.339280132979337, 4.414288224484592, 5.800214700267861, 7.753568357463929, 11.092848490443265, 14.4321286234226, 33.27854547132979]\n"
     ]
    }
   ],
   "source": [
    "print(longitud)"
   ]
  },
  {
   "cell_type": "code",
   "execution_count": 13,
   "metadata": {},
   "outputs": [
    {
     "data": {
      "image/png": "[encoded data removed]",
      "text/plain": [
       "<Figure size 432x288 with 1 Axes>"
      ]
     },
     "metadata": {
      "needs_background": "light"
     },
     "output_type": "display_data"
    }
   ],
   "source": [
    "#GRAFICACIÓN USANDO MAP CON LAMBDA\n",
    "\n",
    "epsilon = [0.4, 0.5, 0.6, 0.7, 0.8, 0.9, 0.95,0.999] #Efectividad\n",
    "\n",
    "longitud = list(map(lambda i :(-log(1-i)*Cp*V_dot*rho)/(Nu*pi*k), epsilon))\n",
    "plt.plot(epsilon,longitud, color=\"red\")\n",
    "plt.scatter(epsilon,longitud, color=\"black\")\n",
    "plt.xticks(np.arange(min(epsilon),max(epsilon)+0.05,0.05))\n",
    "plt.yticks(np.arange(min(longitud),max(longitud)+1,2))\n",
    "plt.grid()\n",
    "plt.xlabel(\"Efectividad\")\n",
    "plt.ylabel(\"Longitud del tubo (m)\")\n",
    "plt.show()"
   ]
  }
 ],
 "metadata": {
  "kernelspec": {
   "display_name": "Python 3",
   "language": "python",
   "name": "python3"
  },
  "language_info": {
   "codemirror_mode": {
    "name": "ipython",
    "version": 3
   },
   "file_extension": ".py",
   "mimetype": "text/x-python",
   "name": "python",
   "nbconvert_exporter": "python",
   "pygments_lexer": "ipython3",
   "version": "3.7.10"
  }
 },
 "nbformat": 4,
 "nbformat_minor": 2
}
